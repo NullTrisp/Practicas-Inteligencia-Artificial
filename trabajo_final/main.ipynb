{
 "cells": [
  {
   "attachments": {},
   "cell_type": "markdown",
   "metadata": {},
   "source": [
    "# Limitaciones\n",
    "- Las sub imagenes deben ser de un tamaño mayor o igual a 200x200 píxeles.\n",
    "- Las sub imagenes deben de tener un color de fondo distinto al color de la imagen base.\n",
    "- El texto no debe estar pixelado, es decir que debe tener una resolución decente\n",
    "- No todas las tipografías son compatibles.\n",
    "- La imagen debe ser PNG o JPG.\n",
    "- Las caras deben estar mirando hacia al frente."
   ]
  },
  {
   "cell_type": "code",
   "execution_count": 113,
   "metadata": {},
   "outputs": [],
   "source": [
    "# Importar librerias necesarias\n",
    "import pytesseract\n",
    "import cv2\n",
    "import pyzbar.pyzbar as pyzbar\n",
    "import os\n"
   ]
  },
  {
   "cell_type": "code",
   "execution_count": 114,
   "metadata": {},
   "outputs": [],
   "source": [
    "# Funcion que encapsula la librería pytesseract que extrae el texto digital o manual a un string\n",
    "def image_to_string(image, lang=\"eng\") -> str:\n",
    "    return pytesseract.image_to_string(image, lang=lang)\n"
   ]
  },
  {
   "cell_type": "code",
   "execution_count": 115,
   "metadata": {},
   "outputs": [],
   "source": [
    "# Funcion para escribir archivos\n",
    "def save_to_file(filename: str, content: str) -> None:\n",
    "    with open(filename, \"w\") as f:\n",
    "        f.write(content)\n"
   ]
  },
  {
   "cell_type": "code",
   "execution_count": 116,
   "metadata": {},
   "outputs": [],
   "source": [
    "# Funcion para almacenar cualquier tipo de imagen\n",
    "def save_image(filename: str, image) -> None:\n",
    "    cv2.imwrite(filename, image)\n"
   ]
  },
  {
   "cell_type": "code",
   "execution_count": 117,
   "metadata": {},
   "outputs": [],
   "source": [
    "# Funcion para eliminar todo contenido de una carpeta en particular\n",
    "def delete_folder_content(folder_path):\n",
    "    for filename in os.listdir(folder_path):\n",
    "        file_path = os.path.join(folder_path, filename)\n",
    "        try:\n",
    "            if os.path.isfile(file_path) or os.path.islink(file_path):\n",
    "                os.unlink(file_path)\n",
    "        except Exception as e:\n",
    "            print('Failed to delete %s. Reason: %s' % (file_path, e))\n"
   ]
  },
  {
   "cell_type": "code",
   "execution_count": 118,
   "metadata": {},
   "outputs": [],
   "source": [
    "# Por cada folder de output ejecutar lo siguiente\n",
    "for folder_path in [\"res\", \"res/faces\", \"res/images\", \"res/qr/\"]:\n",
    "    # En base a la ruta eliminar el contenido\n",
    "    delete_folder_content(folder_path)\n"
   ]
  },
  {
   "cell_type": "code",
   "execution_count": 119,
   "metadata": {},
   "outputs": [],
   "source": [
    "# Constante que define la imagen a tratar\n",
    "FILENAME = \"data/texto_caras_codigos2.jpg\"\n"
   ]
  },
  {
   "cell_type": "code",
   "execution_count": 120,
   "metadata": {},
   "outputs": [],
   "source": [
    "# Lectura de la imagen base\n",
    "image = cv2.imread(FILENAME)\n",
    "\n",
    "# Escritura en disco del output de la imagen base\n",
    "save_image(\"res/0_image_inicial.jpg\", image)\n"
   ]
  },
  {
   "cell_type": "code",
   "execution_count": 121,
   "metadata": {},
   "outputs": [],
   "source": [
    "# Procesar la imagen base a escala de grises\n",
    "# (Esto permite eliminar información innecesaria)\n",
    "gray = cv2.cvtColor(image, cv2.COLOR_BGR2GRAY)\n",
    "\n",
    "# Escritura en disco del output de la imagen base a escala de grises\n",
    "save_image(\"res/1_imagen_escala_gris.jpg\", gray)\n"
   ]
  },
  {
   "cell_type": "code",
   "execution_count": 122,
   "metadata": {},
   "outputs": [],
   "source": [
    "# Procesar la imagen a escala de grises con un desenfoque gausiano \n",
    "# (Esto permite suavizar la imagen y eliminar información  innecesaria)\n",
    "blurred = cv2.GaussianBlur(gray, (5, 5), 0)\n",
    "\n",
    "# Escritura en disco del output de la imagen a escala de grises con desenfoque\n",
    "save_image(\"res/2_imagen_desenfocada.jpg\", blurred)\n"
   ]
  },
  {
   "cell_type": "code",
   "execution_count": 123,
   "metadata": {},
   "outputs": [],
   "source": [
    "# Detectar los codigos QR con la libreria pyzbar\n",
    "codes = pyzbar.decode(blurred)\n",
    "\n",
    "# Ejecutar lo siguiente por cada codigo encontrado\n",
    "for code in codes:\n",
    "    # Obtenemos sus dimensiones\n",
    "    x, y, w, h = code.rect\n",
    "\n",
    "    # Con las dimensiones obtenemos el codigo qr y lo guardamos en disco en el output\n",
    "    save_image(\"res/qr/{}.jpg\".format(codes.index(code)),\n",
    "               blurred[y:y+h, x:x+w])\n",
    "\n",
    "    # De la imagen desenfocada eliminamos el codigo qr quitar información innecesaria\n",
    "    blurred[y:y+h, x:x+w] = 255\n",
    "\n",
    "# Escritura en disco del output de la imagen a escala de grises con desenfoque sin codigos qr\n",
    "save_image(\"res/3_imagen_sin_qrs.jpg\", blurred)\n"
   ]
  },
  {
   "cell_type": "code",
   "execution_count": 124,
   "metadata": {},
   "outputs": [],
   "source": [
    "# Detectar cualquier texto presente en la imagen a escala de grises y desenfocada\n",
    "save_to_file(\"res/lectura_imagen.txt\", image_to_string(blurred))\n"
   ]
  },
  {
   "cell_type": "code",
   "execution_count": 125,
   "metadata": {},
   "outputs": [],
   "source": [
    "# Aplicamos un flitro para dejar solamente contornos\n",
    "thresh = cv2.adaptiveThreshold(\n",
    "    blurred, 255, cv2.ADAPTIVE_THRESH_GAUSSIAN_C, cv2.THRESH_BINARY, 11, 2)\n",
    "\n",
    "# Escritura en disco del output de la imagen con el filtro nuevo\n",
    "save_image(\"res/4_imagen_tresh.jpg\", thresh)\n"
   ]
  },
  {
   "cell_type": "code",
   "execution_count": 126,
   "metadata": {},
   "outputs": [],
   "source": [
    "# Obtenemos todos los contornos presentes en la imagen\n",
    "contours, _ = cv2.findContours(\n",
    "    cv2.Canny(thresh, 50, 200), cv2.RETR_TREE, cv2.CHAIN_APPROX_SIMPLE)\n"
   ]
  },
  {
   "cell_type": "code",
   "execution_count": 127,
   "metadata": {},
   "outputs": [],
   "source": [
    "# Cargamos de disco los kernels para detectar caras y ojos\n",
    "face_cascade = cv2.CascadeClassifier(\n",
    "    'data/kernels/haarcascade_frontalface_default.xml')\n",
    "eye_cascade = cv2.CascadeClassifier(\n",
    "    'data/kernels/haarcascade_eye.xml')"
   ]
  },
  {
   "cell_type": "code",
   "execution_count": 128,
   "metadata": {},
   "outputs": [],
   "source": [
    "# Valores minimos para detectar imagenes\n",
    "w_min = 200\n",
    "h_min = 200\n",
    "\n",
    "# Por cada contorno ejecutar lo siguiente\n",
    "for i, cnt in enumerate(contours):\n",
    "    # Obtener las dimensiones del contorno\n",
    "    x, y, w, h = cv2.boundingRect(cnt)\n",
    "\n",
    "    # Determinamos las coordenadas del ROI (Region of interest)\n",
    "    left = x\n",
    "    top = y\n",
    "    right = x + w\n",
    "    bottom = y + h\n",
    "\n",
    "    # Obtenemos el ROI (Region of interest) a partir de la imagen base\n",
    "    roi = blurred[top:bottom, left:right]\n",
    "    roi_original = image[top:bottom, left:right]\n",
    "\n",
    "    # Flag que nos ayudará al finalizar a determinar si la imagen contiene una cara o no\n",
    "    face = False\n",
    "\n",
    "    # Detectamos todas las posibles caras\n",
    "    faces = face_cascade.detectMultiScale(roi)\n",
    "\n",
    "    # Detectar el incremento necesario\n",
    "    increase = 1 if w > w_min and h > h_min else 3\n",
    "\n",
    "    # incrementar la imagen en caso de ser muy pequeña\n",
    "    roi = cv2.resize(\n",
    "        roi, None, fx=increase, fy=increase, interpolation=cv2.INTER_LINEAR)\n",
    "    roi_original = cv2.resize(\n",
    "        roi_original, None, fx=increase, fy=increase, interpolation=cv2.INTER_LINEAR)\n",
    "    # Esta es una validación que nos ayuda a descartar contornos demasiado pequeños que no son una imagen\n",
    "    if (w >= w_min and h >= h_min) or len(faces) > 0:\n",
    "        # Por cada cara ejecutar lo siguiente\n",
    "        for (x, y, w, h) in faces:\n",
    "            # Incrementamos las coordenadas para actuar\n",
    "            x *= increase\n",
    "            y *= increase\n",
    "            w *= increase\n",
    "            h *= increase\n",
    "\n",
    "            # Pintar un rectangulo en sus coordenadas\n",
    "            cv2.rectangle(roi_original, (x, y), (x + w, y + h), (255, 0, 0), 2)\n",
    "\n",
    "            # Detectamos todas los posibles ojos\n",
    "            eyes = eye_cascade.detectMultiScale(roi[y:y+h, x:x+w])\n",
    "            # Por cada par de ojos ejecutar lo siguiente\n",
    "            for (ex, ey, ew, eh) in eyes:\n",
    "                cv2.rectangle(roi_original[y:y+h, x:x+w], (ex, ey),\n",
    "                              (ex+ew, ey+eh), (0, 255, 0), 2)\n",
    "\n",
    "            # Determinamos que si hay caras presentes\n",
    "            face = True\n",
    "\n",
    "        # Guardamos en disco los ROI determinando si son imagenes o si contienen caras\n",
    "        save_image(\"res/faces/roi_{}.jpg\".format(i)\n",
    "                   if face else \"res/images/roi_{}.jpg\".format(i), roi_original)\n"
   ]
  }
 ],
 "metadata": {
  "kernelspec": {
   "display_name": "Python 3",
   "language": "python",
   "name": "python3"
  },
  "language_info": {
   "codemirror_mode": {
    "name": "ipython",
    "version": 3
   },
   "file_extension": ".py",
   "mimetype": "text/x-python",
   "name": "python",
   "nbconvert_exporter": "python",
   "pygments_lexer": "ipython3",
   "version": "3.10.8 (tags/v3.10.8:aaaf517, Oct 11 2022, 16:50:30) [MSC v.1933 64 bit (AMD64)]"
  },
  "orig_nbformat": 4,
  "vscode": {
   "interpreter": {
    "hash": "8d2fb61df75e75db504d26bf7c9689153b1d560b60ad32fce6e1cb9adb5c1b63"
   }
  }
 },
 "nbformat": 4,
 "nbformat_minor": 2
}
